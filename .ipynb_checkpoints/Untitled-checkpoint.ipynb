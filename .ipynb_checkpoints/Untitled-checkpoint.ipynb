{
 "cells": [
  {
   "cell_type": "code",
   "execution_count": 10,
   "id": "4f81d0d0",
   "metadata": {},
   "outputs": [],
   "source": [
    "import numpy as np\n",
    "import pandas as pd"
   ]
  },
  {
   "cell_type": "code",
   "execution_count": 11,
   "id": "5651e20d",
   "metadata": {},
   "outputs": [],
   "source": [
    "#Read the excel file, page needs to be changed for each animal \n",
    "df = pd.read_excel(r'/Users/valentinreateguirangel/Python/Scoring(melissa_format)/Data_excel/GRIN2B_SleepScoring_Alex.xlsx', sheet_name='433')"
   ]
  },
  {
   "cell_type": "code",
   "execution_count": 12,
   "id": "454e7b58",
   "metadata": {},
   "outputs": [],
   "source": [
    "#function that maps all possible options in the brain state file \n",
    "def map_states(x):\n",
    "    if x['durR'] == 1:\n",
    "        return 2\n",
    "    elif x['durNR'] == 1:\n",
    "        return 1\n",
    "    elif x['durW'] == 1:\n",
    "        return 0\n",
    "    elif x['seizure'] == 1:\n",
    "        return 4\n",
    "    elif x['noise/packet loss'] == 1:\n",
    "        return 5\n",
    "\n",
    "# Create a new DataFrame with the mapped values\n",
    "brain_states = pd.DataFrame()\n",
    "brain_states['start.epoch'] = df['start_epoch']\n",
    "brain_states['state'] = df.apply(map_states, axis=1)\n",
    "\n",
    "# Reset the index of the new DataFrame\n",
    "brain_states = brain_states.reset_index(drop=True)"
   ]
  },
  {
   "cell_type": "code",
   "execution_count": 13,
   "id": "38469edf",
   "metadata": {},
   "outputs": [],
   "source": [
    "#Create new column with end.epoch\n",
    "brain_states['end.epoch'] = range(5, len(brain_states)*5 + 1, 5)"
   ]
  },
  {
   "cell_type": "code",
   "execution_count": 14,
   "id": "5ca03733",
   "metadata": {},
   "outputs": [],
   "source": [
    "#Reindex the new brain_state object with the right format\n",
    "brain_states = brain_states.reindex(columns = ['state','start.epoch','end.epoch'])"
   ]
  },
  {
   "cell_type": "code",
   "execution_count": 16,
   "id": "f99a7494",
   "metadata": {},
   "outputs": [],
   "source": [
    "#export as pickle file, number needs to be changed to keep track of each animal \n",
    "brain_states.to_pickle('433_score.pkl')"
   ]
  },
  {
   "cell_type": "code",
   "execution_count": null,
   "id": "13fe5299",
   "metadata": {},
   "outputs": [],
   "source": []
  }
 ],
 "metadata": {
  "kernelspec": {
   "display_name": "Python 3 (ipykernel)",
   "language": "python",
   "name": "python3"
  },
  "language_info": {
   "codemirror_mode": {
    "name": "ipython",
    "version": 3
   },
   "file_extension": ".py",
   "mimetype": "text/x-python",
   "name": "python",
   "nbconvert_exporter": "python",
   "pygments_lexer": "ipython3",
   "version": "3.9.13"
  }
 },
 "nbformat": 4,
 "nbformat_minor": 5
}
